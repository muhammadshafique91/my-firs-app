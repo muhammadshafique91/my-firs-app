{
 "cells": [
  {
   "cell_type": "markdown",
   "metadata": {},
   "source": [
    "# Operator"
   ]
  },
  {
   "cell_type": "code",
   "execution_count": null,
   "metadata": {},
   "outputs": [],
   "source": [
    "45/9"
   ]
  },
  {
   "cell_type": "code",
   "execution_count": null,
   "metadata": {},
   "outputs": [],
   "source": [
    "45//9"
   ]
  },
  {
   "cell_type": "code",
   "execution_count": null,
   "metadata": {},
   "outputs": [],
   "source": [
    "2**8"
   ]
  },
  {
   "cell_type": "code",
   "execution_count": null,
   "metadata": {},
   "outputs": [],
   "source": [
    "2*(1+1)**3+7"
   ]
  },
  {
   "cell_type": "code",
   "execution_count": null,
   "metadata": {},
   "outputs": [],
   "source": [
    "2+3/2+.5"
   ]
  },
  {
   "cell_type": "code",
   "execution_count": null,
   "metadata": {},
   "outputs": [],
   "source": [
    "2+3//2+.5"
   ]
  },
  {
   "cell_type": "markdown",
   "metadata": {},
   "source": [
    "MATH EXPRESSION UNFAMILAR"
   ]
  },
  {
   "cell_type": "code",
   "execution_count": null,
   "metadata": {},
   "outputs": [],
   "source": [
    "4%3   #Reminder"
   ]
  },
  {
   "cell_type": "code",
   "execution_count": null,
   "metadata": {},
   "outputs": [],
   "source": [
    "x=1234\n"
   ]
  },
  {
   "cell_type": "code",
   "execution_count": null,
   "metadata": {},
   "outputs": [],
   "source": []
  },
  {
   "cell_type": "code",
   "execution_count": null,
   "metadata": {},
   "outputs": [],
   "source": [
    "x"
   ]
  },
  {
   "cell_type": "code",
   "execution_count": null,
   "metadata": {},
   "outputs": [],
   "source": [
    "x=x+3"
   ]
  },
  {
   "cell_type": "code",
   "execution_count": null,
   "metadata": {},
   "outputs": [],
   "source": [
    "x"
   ]
  },
  {
   "cell_type": "code",
   "execution_count": null,
   "metadata": {},
   "outputs": [],
   "source": [
    "x += 3"
   ]
  },
  {
   "cell_type": "code",
   "execution_count": null,
   "metadata": {},
   "outputs": [],
   "source": [
    "x"
   ]
  },
  {
   "cell_type": "code",
   "execution_count": null,
   "metadata": {},
   "outputs": [],
   "source": [
    "x +=3"
   ]
  },
  {
   "cell_type": "code",
   "execution_count": null,
   "metadata": {},
   "outputs": [],
   "source": [
    "x"
   ]
  },
  {
   "cell_type": "code",
   "execution_count": null,
   "metadata": {},
   "outputs": [],
   "source": [
    "x -=3"
   ]
  },
  {
   "cell_type": "code",
   "execution_count": null,
   "metadata": {},
   "outputs": [],
   "source": [
    "x"
   ]
  },
  {
   "cell_type": "code",
   "execution_count": null,
   "metadata": {},
   "outputs": [],
   "source": [
    "x*=2"
   ]
  },
  {
   "cell_type": "code",
   "execution_count": null,
   "metadata": {},
   "outputs": [],
   "source": [
    "x"
   ]
  },
  {
   "cell_type": "code",
   "execution_count": null,
   "metadata": {},
   "outputs": [],
   "source": [
    "x //=2"
   ]
  },
  {
   "cell_type": "code",
   "execution_count": null,
   "metadata": {},
   "outputs": [],
   "source": [
    "x"
   ]
  },
  {
   "cell_type": "code",
   "execution_count": null,
   "metadata": {},
   "outputs": [],
   "source": [
    "x"
   ]
  },
  {
   "cell_type": "markdown",
   "metadata": {},
   "source": [
    "# IF statement"
   ]
  },
  {
   "cell_type": "code",
   "execution_count": null,
   "metadata": {},
   "outputs": [],
   "source": [
    "#Checking Condition\n",
    "a=2\n",
    "b=3\n",
    "a==b"
   ]
  },
  {
   "cell_type": "code",
   "execution_count": null,
   "metadata": {},
   "outputs": [],
   "source": [
    "a>b"
   ]
  },
  {
   "cell_type": "code",
   "execution_count": null,
   "metadata": {},
   "outputs": [],
   "source": [
    "a<b"
   ]
  },
  {
   "cell_type": "code",
   "execution_count": null,
   "metadata": {},
   "outputs": [],
   "source": [
    "a<=b"
   ]
  },
  {
   "cell_type": "code",
   "execution_count": null,
   "metadata": {},
   "outputs": [],
   "source": [
    "a!=b #is not equal to"
   ]
  },
  {
   "cell_type": "code",
   "execution_count": null,
   "metadata": {},
   "outputs": [],
   "source": [
    "a=2\n",
    "a=1\n",
    "if a>b: #Indentation is after enter cursor itself take tab distance #Indent means that it is the body of your program\n",
    "        #same indent function body\n",
    "     print(f\"{a} is greater than {b}\")    \n",
    "        \n",
    "    "
   ]
  },
  {
   "cell_type": "code",
   "execution_count": null,
   "metadata": {},
   "outputs": [],
   "source": [
    "a=2\n",
    "a=1\n",
    "if a>b:\n",
    "     print(f\"{a} is greater than {b}\")  \n",
    "     print(f\"{a} is greater than {b}\")   "
   ]
  },
  {
   "cell_type": "code",
   "execution_count": null,
   "metadata": {},
   "outputs": [],
   "source": [
    "a=2\n",
    "a=1\n",
    "if a>b:\n",
    "     print(f\"{a} is greater than {b}\")  \n",
    "     print(f\"{a} is greater than {b}\")   \n",
    "else:\n",
    "    print(f\"{b} is greater than {a}\") \n",
    "    "
   ]
  },
  {
   "cell_type": "code",
   "execution_count": null,
   "metadata": {},
   "outputs": [],
   "source": [
    "a=int(input(\"enter a number\"))\n",
    "b=int(input(\"enter another number\")\n",
    "if a>b:\n",
    "      print(\"if block is executing\") \n",
    "     print(f\"{a} is greater than {b}\")  \n",
    "     print(f\"{a} is greater than {b}\")   \n",
    "else:\n",
    "       print(\"else block is executing\") \n",
    "    print(f\"{b} is greater than {a}\") "
   ]
  },
  {
   "cell_type": "code",
   "execution_count": null,
   "metadata": {},
   "outputs": [],
   "source": [
    "a=int(input(\"enter a number\"))\n",
    "b=int(input(\"enter another number\")\n",
    "if a > b:\n",
    "     print(\"if block is executing\") \n",
    "     print(f\"{a} is greater than {b}\")  \n",
    "     print(f\"{a} is greater than {b}\")   \n",
    "else:\n",
    "    print(\"else block is executing\") \n",
    "    print(f\"{b} is greater than {a}\") "
   ]
  },
  {
   "cell_type": "code",
   "execution_count": null,
   "metadata": {},
   "outputs": [],
   "source": [
    "a=int(input(\"enter a number\"))\n",
    "b=int(input(\"enter another number\"))\n",
    "      \n",
    "if a > b :\n",
    "      print(\"if block is executing\")\n",
    "      print(f\"{a} is greater than {b}\")\n",
    "      print(f\"{a} is greater than {b}\")"
   ]
  },
  {
   "cell_type": "markdown",
   "metadata": {},
   "source": [
    "# Multiple Ifs "
   ]
  },
  {
   "cell_type": "code",
   "execution_count": null,
   "metadata": {},
   "outputs": [],
   "source": [
    "age=int(input(\"Enter age\"))\n",
    "if age>=18:\n",
    "    print(\"your age is valid\")\n",
    "    ticket=input(\"Enter ticket status\").lower() #will lower the case of input\n",
    "    if ticket == 'yes':\n",
    "        print(\"Your ticket is Valid\")\n",
    "        print(\"you are allowed\")\n",
    "    else: \n",
    "        print(\"please buy ticket\")\n",
    "else:\n",
    "    print(\"you are not allowed\")"
   ]
  },
  {
   "cell_type": "code",
   "execution_count": null,
   "metadata": {},
   "outputs": [],
   "source": [
    "status=input(\"enter your nic status\")\n",
    "if status =='yes':\n",
    "    print(\"You are allowed\")\n",
    "    name=input(\"enter your name\")\n",
    "    if name == \"b\":\n",
    "     print(\"You are allowed\")\n",
    "else:\n",
    "     print(\"You are not allowed\")"
   ]
  },
  {
   "cell_type": "code",
   "execution_count": null,
   "metadata": {},
   "outputs": [],
   "source": [
    "age=int(input(\"Enter age\"))\n",
    "ticket=input(\"Enter ticket status\").lower()\n",
    "if age>=18 and ticket =='yes':\n",
    "    print ('you are allowed')\n",
    "else:\n",
    "    print('not allowed')"
   ]
  },
  {
   "cell_type": "code",
   "execution_count": null,
   "metadata": {},
   "outputs": [],
   "source": [
    "age=int(input(\"Enter age\"))\n",
    "ticket=input(\"Enter ticket status\").lower()\n",
    "if age>=18 or ticket =='yes':\n",
    "    print ('you are allowed')\n",
    "else:\n",
    "    print('not allowed')"
   ]
  },
  {
   "cell_type": "code",
   "execution_count": null,
   "metadata": {},
   "outputs": [],
   "source": [
    "a= int(input (\"enter first number\"))\n",
    "b= int(input (\"enter second number\"))\n",
    "if a == b:\n",
    "        print (f'{a} is equal to {b}')\n",
    "if a!=b:\n",
    "     print (f'{a} is not equal to {b}')"
   ]
  },
  {
   "cell_type": "code",
   "execution_count": null,
   "metadata": {},
   "outputs": [],
   "source": [
    "a= int(input (\"enter first number\"))\n",
    "b= int(input (\"enter second number\"))\n",
    "if a == b:\n",
    "        print (f'{a} is equal to {b}')\n",
    "elif a!=b:\n",
    "     print (f'{a} is not equal to {b}')"
   ]
  },
  {
   "cell_type": "code",
   "execution_count": null,
   "metadata": {},
   "outputs": [],
   "source": [
    "a= int(input (\"enter first number\"))\n",
    "b= int(input (\"enter second number\"))\n",
    "if a == b:\n",
    "    print('sab set h')\n",
    "elif a > b:\n",
    "    print('nhe h')\n",
    "elif a < b:\n",
    "    print('kuch nhe h')\n",
    "else:   \n",
    "    print('kya hwa h')"
   ]
  },
  {
   "cell_type": "code",
   "execution_count": null,
   "metadata": {},
   "outputs": [],
   "source": [
    "a= int(input (\"enter first number\"))\n",
    "b= int(input (\"enter second number\"))\n",
    "if a==b or a > b or a < b :\n",
    "      print ('All is well')\n",
    "else:\n",
    "    print ('Try again')"
   ]
  },
  {
   "cell_type": "code",
   "execution_count": 5,
   "metadata": {},
   "outputs": [
    {
     "name": "stdout",
     "output_type": "stream",
     "text": [
      "Enter paper satus: yes\n",
      "Enter paisa status: yes\n",
      "you are allowed\n"
     ]
    }
   ],
   "source": [
    "a=input(\"Enter paper satus: \")\n",
    "b=input(\"Enter paisa status: \")\n",
    "if a == 'yes' or b == 'yes':\n",
    "    print('you are allowed')\n",
    "else:\n",
    "    print('you are not allowed')"
   ]
  },
  {
   "cell_type": "code",
   "execution_count": 3,
   "metadata": {},
   "outputs": [
    {
     "name": "stdout",
     "output_type": "stream",
     "text": [
      "Enter paper satusyes\n",
      "Enter paisa statusno\n",
      "you are not allowed\n"
     ]
    }
   ],
   "source": [
    "a=input(\"Enter paper satus: \")\n",
    "b=input(\"Enter paisa status: \")\n",
    "if a == 'yes' and b == 'yes':\n",
    "    print('you are allowed')\n",
    "else:\n",
    "    print('you are not allowed')"
   ]
  },
  {
   "cell_type": "code",
   "execution_count": 6,
   "metadata": {},
   "outputs": [
    {
     "name": "stdout",
     "output_type": "stream",
     "text": [
      "Enter paper satus: yes\n",
      "Enter paisa status: no\n",
      "you are allowed\n"
     ]
    }
   ],
   "source": [
    "a=input(\"Enter paper satus: \")    #comments\n",
    "b=input(\"Enter paisa status: \")   #('''jhdfldfhdjfdlfue''')(three oppostrophy for commenting a paragraph)\n",
    "''' What is your name today is first class\n",
    "What is your name today is first class\n",
    "What is your name today is first class\n",
    "What is your name today is first class\n",
    "What is your name today is first class'''\n",
    "if a == 'yes':\n",
    "    print('you are allowed')\n",
    "elif b=='yes':\n",
    "    print('you are allowed')\n",
    "else:\n",
    "    print('you are not allowed')"
   ]
  },
  {
   "cell_type": "code",
   "execution_count": 7,
   "metadata": {},
   "outputs": [],
   "source": [
    "#contrl + forward slash(/) for commenting a whole paragraph in term of lines\n",
    "\n",
    "# a=input(\"Enter paper satus: \")    #comments\n",
    "# b=input(\"Enter paisa status: \")\n",
    "# ''' What is your name today is first class\n",
    "# What is your name today is first class\n",
    "# What is your name today is first class\n",
    "# What is your name today is first class\n",
    "# What is your name today is first class'''\n",
    "# if a == 'yes':\n",
    "#     print('you are allowed')\n",
    "# elif b=='yes':\n",
    "#     print('you are allowed')\n",
    "# else:\n",
    "#     print('you are not allowed')"
   ]
  },
  {
   "cell_type": "markdown",
   "metadata": {},
   "source": [
    "# ASSIGHNMENT"
   ]
  },
  {
   "cell_type": "code",
   "execution_count": null,
   "metadata": {},
   "outputs": [],
   "source": [
    "ATM Machine\n",
    "Current Balance \n",
    "Enter w for withdrawl d for deposite\n",
    "\n",
    "Withdrawl enter amount (subtract from current balance)\n",
    "\n",
    "Deposite enter amount (add in current balance)\n",
    " "
   ]
  }
 ],
 "metadata": {
  "kernelspec": {
   "display_name": "Python 3",
   "language": "python",
   "name": "python3"
  },
  "language_info": {
   "codemirror_mode": {
    "name": "ipython",
    "version": 3
   },
   "file_extension": ".py",
   "mimetype": "text/x-python",
   "name": "python",
   "nbconvert_exporter": "python",
   "pygments_lexer": "ipython3",
   "version": "3.7.3"
  }
 },
 "nbformat": 4,
 "nbformat_minor": 2
}
